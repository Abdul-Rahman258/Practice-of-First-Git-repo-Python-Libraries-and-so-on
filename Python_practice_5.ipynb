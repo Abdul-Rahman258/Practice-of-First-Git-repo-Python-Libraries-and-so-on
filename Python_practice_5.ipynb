{
  "nbformat": 4,
  "nbformat_minor": 0,
  "metadata": {
    "colab": {
      "provenance": [],
      "authorship_tag": "ABX9TyOF6HbE5lIAHuDaTNPNmpps",
      "include_colab_link": true
    },
    "kernelspec": {
      "name": "python3",
      "display_name": "Python 3"
    },
    "language_info": {
      "name": "python"
    }
  },
  "cells": [
    {
      "cell_type": "markdown",
      "metadata": {
        "id": "view-in-github",
        "colab_type": "text"
      },
      "source": [
        "<a href=\"https://colab.research.google.com/github/Abdul-Rahman258/Practice-of-First-Git-repo-Python-Libraries-and-so-on/blob/master/Python_practice_5.ipynb\" target=\"_parent\"><img src=\"https://colab.research.google.com/assets/colab-badge.svg\" alt=\"Open In Colab\"/></a>"
      ]
    },
    {
      "cell_type": "code",
      "execution_count": 10,
      "metadata": {
        "colab": {
          "base_uri": "https://localhost:8080/",
          "height": 408
        },
        "id": "bnDrcDZWiiub",
        "outputId": "2db7128e-82d4-4657-f271-5fc9600aa2c4"
      },
      "outputs": [
        {
          "output_type": "stream",
          "name": "stdout",
          "text": [
            "***SAMAAN***\n",
            "***Hello User Welcome to SAMAAN.pk,the Ultimate Tech store***\n",
            "Are you a first time customer?Please enter yes or no\n"
          ]
        },
        {
          "output_type": "error",
          "ename": "KeyboardInterrupt",
          "evalue": "Interrupted by user",
          "traceback": [
            "\u001b[0;31m---------------------------------------------------------------------------\u001b[0m",
            "\u001b[0;31mKeyboardInterrupt\u001b[0m                         Traceback (most recent call last)",
            "\u001b[0;32m<ipython-input-10-2af5acd81df9>\u001b[0m in \u001b[0;36m<cell line: 0>\u001b[0;34m()\u001b[0m\n\u001b[1;32m      1\u001b[0m \u001b[0mprint\u001b[0m\u001b[0;34m(\u001b[0m\u001b[0;34m\"***SAMAAN***\"\u001b[0m\u001b[0;34m)\u001b[0m  \u001b[0;31m#heading of the store\u001b[0m\u001b[0;34m\u001b[0m\u001b[0;34m\u001b[0m\u001b[0m\n\u001b[1;32m      2\u001b[0m \u001b[0mprint\u001b[0m\u001b[0;34m(\u001b[0m\u001b[0;34m\"***Hello User Welcome to SAMAAN.pk,the Ultimate Tech store***\"\u001b[0m\u001b[0;34m)\u001b[0m \u001b[0;31m#motto and catchphrase\u001b[0m\u001b[0;34m\u001b[0m\u001b[0;34m\u001b[0m\u001b[0m\n\u001b[0;32m----> 3\u001b[0;31m \u001b[0mCustomer\u001b[0m\u001b[0;34m=\u001b[0m \u001b[0minput\u001b[0m\u001b[0;34m(\u001b[0m\u001b[0mprint\u001b[0m\u001b[0;34m(\u001b[0m\u001b[0;34m\"Are you a first time customer?\"\u001b[0m \u001b[0;34m\"Please enter yes or no\"\u001b[0m\u001b[0;34m)\u001b[0m\u001b[0;34m)\u001b[0m \u001b[0;31m#checking if the customer is new or not\u001b[0m\u001b[0;34m\u001b[0m\u001b[0;34m\u001b[0m\u001b[0m\n\u001b[0m\u001b[1;32m      4\u001b[0m \u001b[0;32mif\u001b[0m \u001b[0mCustomer\u001b[0m \u001b[0;34m==\u001b[0m \u001b[0;34m\"yes\"\u001b[0m \u001b[0;34m:\u001b[0m\u001b[0;34m\u001b[0m\u001b[0;34m\u001b[0m\u001b[0m\n\u001b[1;32m      5\u001b[0m   \u001b[0mprint\u001b[0m\u001b[0;34m(\u001b[0m\u001b[0;34m\"Welcome Back!!\"\u001b[0m\u001b[0;34m)\u001b[0m\u001b[0;34m\u001b[0m\u001b[0;34m\u001b[0m\u001b[0m\n",
            "\u001b[0;32m/usr/local/lib/python3.11/dist-packages/ipykernel/kernelbase.py\u001b[0m in \u001b[0;36mraw_input\u001b[0;34m(self, prompt)\u001b[0m\n\u001b[1;32m   1175\u001b[0m                 \u001b[0;34m\"raw_input was called, but this frontend does not support input requests.\"\u001b[0m\u001b[0;34m\u001b[0m\u001b[0;34m\u001b[0m\u001b[0m\n\u001b[1;32m   1176\u001b[0m             )\n\u001b[0;32m-> 1177\u001b[0;31m         return self._input_request(\n\u001b[0m\u001b[1;32m   1178\u001b[0m             \u001b[0mstr\u001b[0m\u001b[0;34m(\u001b[0m\u001b[0mprompt\u001b[0m\u001b[0;34m)\u001b[0m\u001b[0;34m,\u001b[0m\u001b[0;34m\u001b[0m\u001b[0;34m\u001b[0m\u001b[0m\n\u001b[1;32m   1179\u001b[0m             \u001b[0mself\u001b[0m\u001b[0;34m.\u001b[0m\u001b[0m_parent_ident\u001b[0m\u001b[0;34m[\u001b[0m\u001b[0;34m\"shell\"\u001b[0m\u001b[0;34m]\u001b[0m\u001b[0;34m,\u001b[0m\u001b[0;34m\u001b[0m\u001b[0;34m\u001b[0m\u001b[0m\n",
            "\u001b[0;32m/usr/local/lib/python3.11/dist-packages/ipykernel/kernelbase.py\u001b[0m in \u001b[0;36m_input_request\u001b[0;34m(self, prompt, ident, parent, password)\u001b[0m\n\u001b[1;32m   1217\u001b[0m             \u001b[0;32mexcept\u001b[0m \u001b[0mKeyboardInterrupt\u001b[0m\u001b[0;34m:\u001b[0m\u001b[0;34m\u001b[0m\u001b[0;34m\u001b[0m\u001b[0m\n\u001b[1;32m   1218\u001b[0m                 \u001b[0;31m# re-raise KeyboardInterrupt, to truncate traceback\u001b[0m\u001b[0;34m\u001b[0m\u001b[0;34m\u001b[0m\u001b[0m\n\u001b[0;32m-> 1219\u001b[0;31m                 \u001b[0;32mraise\u001b[0m \u001b[0mKeyboardInterrupt\u001b[0m\u001b[0;34m(\u001b[0m\u001b[0;34m\"Interrupted by user\"\u001b[0m\u001b[0;34m)\u001b[0m \u001b[0;32mfrom\u001b[0m \u001b[0;32mNone\u001b[0m\u001b[0;34m\u001b[0m\u001b[0;34m\u001b[0m\u001b[0m\n\u001b[0m\u001b[1;32m   1220\u001b[0m             \u001b[0;32mexcept\u001b[0m \u001b[0mException\u001b[0m\u001b[0;34m:\u001b[0m\u001b[0;34m\u001b[0m\u001b[0;34m\u001b[0m\u001b[0m\n\u001b[1;32m   1221\u001b[0m                 \u001b[0mself\u001b[0m\u001b[0;34m.\u001b[0m\u001b[0mlog\u001b[0m\u001b[0;34m.\u001b[0m\u001b[0mwarning\u001b[0m\u001b[0;34m(\u001b[0m\u001b[0;34m\"Invalid Message:\"\u001b[0m\u001b[0;34m,\u001b[0m \u001b[0mexc_info\u001b[0m\u001b[0;34m=\u001b[0m\u001b[0;32mTrue\u001b[0m\u001b[0;34m)\u001b[0m\u001b[0;34m\u001b[0m\u001b[0;34m\u001b[0m\u001b[0m\n",
            "\u001b[0;31mKeyboardInterrupt\u001b[0m: Interrupted by user"
          ]
        }
      ],
      "source": [
        "print(\"***SAMAAN***\")  #heading of the store\n",
        "print(\"***Hello User Welcome to SAMAAN.pk,the Ultimate Tech store***\") #motto and catchphrase\n",
        "Customer= input(print(\"Are you a first time customer?\" \"Please enter yes or no\")) #checking if the customer is new or not\n",
        "if Customer == \"yes\" :\n",
        "  print(\"Welcome Back!!\")\n",
        "else :\n",
        "  print(\"Welcome to SAMAAN\")\n",
        "  New_Customer = input(\"Please enter your Name\")\n",
        "  New_address = input(\"Please enter your address\")\n",
        "print(\"***SAMAAN***\")  #heading of the store\n",
        "print(\"***Hello User Welcome to SAMAAN.pk,the Ultimate Tech store***\") #motto and catchphrase\n",
        "Customer= input(print(\"Are you a first time customer?\" \"Please enter yes or no\")) #checking if the customer is new or not\n",
        "if Customer == \"yes\" :\n",
        "  print(\"Welcome Back!!\")\n",
        "else :\n",
        "  print(\"Welcome to SAMAAN\")\n",
        "  New_Customer = input(\"Please enter your Name\")\n",
        "  New_address = input(\"Please enter your address\")\n",
        "  New_Phone_no= input(\"Please enter phone number\")\n",
        "Laptops = {\n",
        "    \"HP\": [{\"Product Name\" : \"HP Pavilion\", \"Price\": 2000 , \"Stock\" : \"3\"},{\"Product Name\" : \"HP DragonFly\", \"Price\": 3000 , \"Stock\" : \"6\"},{\"Product Name\" : \"HP EiteBook\", \"Price\": 4000 , \"Stock\" :\"7\"},{\"Product Name\" : \"HP Victis\", \"Price\": 6000 , \"Stock\" : \"2\"}],\n",
        "    \"Dell\": [{\"Product Name\" : \"Dell XPS 15\", \"Price\": 2000 , \"Stock\" :\"3\"},{\"Product Name\" : \"Dell Latitude\", \"Price\": 3000 , \"Stock\" :\"6\"},{\"Product Name\" : \"XPS 13\", \"Price\": 4000 , \"Stock\" : \"7\"},{\"Product Name\" : \"Dell Alienware\", \"Price\": 6000 , \"Stock\" : \"2\"}],\n",
        "    \"Lenovo\": [{\"Product Name\" : \"ThinkPad\", \"Price\": 2000 , \"Stock\" :\"3\"},{\"Product Name\" : \"Yoga\", \"Price\": 3000 , \"Stock\" : \"6\"},{\"Product Name\" : \"Create\", \"Price\": 4000 , \"Stock\" : \"7\"},{\"Product Name\" : \"ThinkBook\", \"Price\": 6000 , \"Stock\": \"2\"}]\n",
        "           }\n"
      ]
    },
    {
      "cell_type": "code",
      "source": [
        "import random\n",
        "\n",
        "print(\"***Welcome To The Guessing Game***\")\n",
        "Name1 = input(\"Please enter Player 1's name: \")\n",
        "Name2 = input(\"Please enter Player 2's name: \")\n",
        "\n",
        "try:\n",
        "    num_range = int(input(\"Please enter the range of numbers: \"))\n",
        "except ValueError:\n",
        "    print(\"Invalid input. Please enter an integer for the range.\")\n",
        "    exit()\n",
        "\n",
        "players = [(Name1, 0), (Name2, 0)]  # Store player names and scores\n",
        "\n",
        "for player_name, _ in players:\n",
        "    print(f\"Welcome {player_name} to the guessing game\")\n",
        "\n",
        "print(\"You have 5 attempts each. Let's start!\")\n",
        "Guess = random.randint(0, num_range)\n",
        "\n",
        "for player_index, (player_name, score) in enumerate(players):\n",
        "    print(f\"\\n{player_name}'s turn:\")\n",
        "    attempts = 5\n",
        "    highscore = 0\n",
        "\n",
        "    while attempts > 0:\n",
        "        try:\n",
        "            User_num = int(input(\"Please enter a number: \"))\n",
        "        except ValueError:\n",
        "            print(\"Invalid input. Please enter an integer.\")\n",
        "            continue\n",
        "\n",
        "        attempts -= 1\n",
        "\n",
        "        if User_num > Guess:\n",
        "            print(\"Too High\")\n",
        "            if attempts == 4:\n",
        "                highscore = 5000\n",
        "            elif attempts == 3:\n",
        "                highscore = 2500\n",
        "            elif attempts == 2:\n",
        "                highscore = 1000\n",
        "            elif attempts == 1:\n",
        "                highscore = 500\n",
        "            elif attempts == 0:\n",
        "                highscore = 0\n",
        "            else:\n",
        "                highscore = 10000\n",
        "\n",
        "        elif User_num < Guess:\n",
        "            print(\"Too Low\")\n",
        "            if attempts == 4:\n",
        "                highscore = 5000\n",
        "            elif attempts == 3:\n",
        "                highscore = 2500\n",
        "            elif attempts == 2:\n",
        "                highscore = 1000\n",
        "            elif attempts == 1:\n",
        "                highscore = 500\n",
        "            elif attempts == 0:\n",
        "                highscore = 0\n",
        "            else:\n",
        "                highscore = 10000\n",
        "\n",
        "        else:\n",
        "            highscore_values = {4: 5000, 3: 2500, 2: 1000, 1: 500, 0: 0}\n",
        "            remaining_attempts = attempts\n",
        "            if remaining_attempts < 5:\n",
        "                remaining_attempts += 1\n",
        "            else:\n",
        "                remaining_attempts = attempts\n",
        "\n",
        "            print(f\"You guessed the correct answer with {remaining_attempts} attempts left and {highscore_values.get(remaining_attempts - 1, 10000)} points.\")\n",
        "            players[player_index] = (player_name, highscore_values.get(remaining_attempts - 1, 10000)) #update score\n",
        "            break\n",
        "\n",
        "    else:\n",
        "        print(f\"You ran out of attempts. l\")\n",
        "        players[player_index] = (player_name, 0) #update score to 0 if they lose\n",
        "\n",
        "print(\"\\n--- Game Over ---\")\n",
        "\n",
        "if players[0][1] > players[1][1]:\n",
        "    print(f\"{players[0][0]} wins with {players[0][1]} points!\")\n",
        "elif players[1][1] > players[0][1]:\n",
        "    print(f\"{players[1][0]} wins with {players[1][1]} points!\")\n",
        "else:\n",
        "    print(\"It's a tie!\")\n",
        "\n",
        "print(f\"{players[0][0]}: {players[0][1]} points\")\n",
        "print(f\"{players[1][0]}: {players[1][1]} points\")"
      ],
      "metadata": {
        "colab": {
          "base_uri": "https://localhost:8080/"
        },
        "id": "sJ0o4qZPqvr8",
        "outputId": "6e95ed94-d1fe-4d51-a926-5a59438b62ae"
      },
      "execution_count": 6,
      "outputs": [
        {
          "output_type": "stream",
          "name": "stdout",
          "text": [
            "***Welcome To The Guessing Game***\n",
            "Please enter Player 1's name: ar\n",
            "Please enter Player 2's name: ah\n",
            "Please enter the range of numbers: 20\n",
            "Welcome ar to the guessing game\n",
            "Welcome ah to the guessing game\n",
            "You have 5 attempts each. Let's start!\n",
            "\n",
            "ar's turn:\n",
            "Please enter a number: 10\n",
            "Too Low\n",
            "Please enter a number: 16\n",
            "Too Low\n",
            "Please enter a number: 19\n",
            "You guessed the correct answer with 3 attempts left and 1000 points.\n",
            "\n",
            "ah's turn:\n",
            "Please enter a number: 19\n",
            "You guessed the correct answer with 5 attempts left and 5000 points.\n",
            "\n",
            "--- Game Over ---\n",
            "ah wins with 5000 points!\n",
            "ar: 1000 points\n",
            "ah: 5000 points\n"
          ]
        }
      ]
    },
    {
      "cell_type": "code",
      "source": [
        "total_steps= 64\n",
        "start_num = 1\n",
        "for i in range(1,total_steps+1):\n",
        "  if start_num <= total_steps :\n",
        "    x = start_num + start_num\n",
        "\n"
      ],
      "metadata": {
        "colab": {
          "base_uri": "https://localhost:8080/"
        },
        "id": "Kgco9ohT_Nu4",
        "outputId": "22964429-8aa9-4c72-e191-cb4a3fa9b977"
      },
      "execution_count": 11,
      "outputs": [
        {
          "output_type": "stream",
          "name": "stdout",
          "text": [
            "1\n",
            "2\n",
            "4\n",
            "8\n",
            "16\n",
            "32\n",
            "64\n"
          ]
        }
      ]
    },
    {
      "cell_type": "code",
      "source": [],
      "metadata": {
        "id": "vhI4McyNIlqz"
      },
      "execution_count": null,
      "outputs": []
    }
  ]
}